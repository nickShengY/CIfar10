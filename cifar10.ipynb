{
 "cells": [
  {
   "attachments": {},
   "cell_type": "markdown",
   "metadata": {},
   "source": [
    "#  0. Load Deps"
   ]
  },
  {
   "cell_type": "code",
   "execution_count": 10,
   "metadata": {},
   "outputs": [],
   "source": [
    "# !pip uninstall tensorflow tensorflow-gpu tensorflow-io"
   ]
  },
  {
   "cell_type": "code",
   "execution_count": 11,
   "metadata": {},
   "outputs": [],
   "source": [
    "# !pip install -i https://pypi.mirrors.ustc.edu.cn/simple tensorflow==2.8.2 tensorflow-gpu==2.8.2 tensorflow-io==0.25.0 matplotlib"
   ]
  },
  {
   "cell_type": "code",
   "execution_count": 12,
   "metadata": {},
   "outputs": [],
   "source": [
    "# Import libraries\n",
    "import tensorflow as tf\n",
    "\n",
    "from tensorflow.keras.preprocessing.image import ImageDataGenerator\n",
    "from tensorflow.keras.models import Sequential\n",
    "from tensorflow.keras.layers import Dense, Dropout, Activation, Flatten\n",
    "from tensorflow.keras.layers import Conv2D, MaxPooling2D\n"
   ]
  },
  {
   "cell_type": "code",
   "execution_count": 13,
   "metadata": {},
   "outputs": [],
   "source": [
    "#run this if your GPU RAM is lower than 8GB\n",
    "import os\n",
    "os.environ['CUDA_VISIBLE_DEVICES'] = '-1'"
   ]
  },
  {
   "attachments": {},
   "cell_type": "markdown",
   "metadata": {},
   "source": [
    "# 1. Data Loading"
   ]
  },
  {
   "cell_type": "code",
   "execution_count": 14,
   "metadata": {},
   "outputs": [],
   "source": [
    "from tensorflow.keras.datasets import cifar10\n",
    "\n",
    "# Load cifar-10\n",
    "(x_train, y_train), (x_test, y_test) = cifar10.load_data()\n",
    "\n",
    "# Normalize pixels\n",
    "x_train, x_test = x_train / 255.0, x_test / 255.0"
   ]
  },
  {
   "cell_type": "code",
   "execution_count": 15,
   "metadata": {},
   "outputs": [
    {
     "data": {
      "text/plain": [
       "(50000, 32, 32, 3)"
      ]
     },
     "execution_count": 15,
     "metadata": {},
     "output_type": "execute_result"
    }
   ],
   "source": [
    "x_train.shape"
   ]
  },
  {
   "cell_type": "code",
   "execution_count": 16,
   "metadata": {},
   "outputs": [
    {
     "data": {
      "text/plain": [
       "(10000, 32, 32, 3)"
      ]
     },
     "execution_count": 16,
     "metadata": {},
     "output_type": "execute_result"
    }
   ],
   "source": [
    "x_test.shape"
   ]
  },
  {
   "attachments": {},
   "cell_type": "markdown",
   "metadata": {},
   "source": []
  },
  {
   "cell_type": "code",
   "execution_count": 17,
   "metadata": {},
   "outputs": [],
   "source": [
    "# Model definition\n",
    "model = Sequential()\n",
    "\n",
    "model.add(Conv2D(32, (3, 3), input_shape=x_train.shape[1:]))\n",
    "model.add(Activation('relu'))\n",
    "model.add(MaxPooling2D(pool_size=(2, 2)))\n",
    "\n",
    "model.add(Conv2D(64, (3, 3)))\n",
    "model.add(Activation('relu'))\n",
    "model.add(MaxPooling2D(pool_size=(2, 2)))\n",
    "\n",
    "model.add(Conv2D(128, (3, 3)))\n",
    "model.add(Activation('relu'))\n",
    "model.add(MaxPooling2D(pool_size=(2, 2)))\n",
    "\n",
    "model.add(Flatten())  # Flattent our 3D feature maps to 1D feature vectors\n",
    "model.add(Dense(64))\n",
    "model.add(Activation('relu'))\n",
    "\n",
    "model.add(Dense(10))\n",
    "model.add(Activation('softmax'))\n"
   ]
  },
  {
   "cell_type": "code",
   "execution_count": 18,
   "metadata": {},
   "outputs": [],
   "source": [
    "# Compile the model\n",
    "model.compile(optimizer='adam',\n",
    "              loss=tf.keras.losses.SparseCategoricalCrossentropy(from_logits=True),\n",
    "              metrics=['accuracy'])\n"
   ]
  },
  {
   "cell_type": "code",
   "execution_count": 19,
   "metadata": {},
   "outputs": [
    {
     "name": "stdout",
     "output_type": "stream",
     "text": [
      "Epoch 1/20\n",
      "1563/1563 [==============================] - 25s 16ms/step - loss: 1.5477 - accuracy: 0.4336 - val_loss: 1.2563 - val_accuracy: 0.5504\n",
      "Epoch 2/20\n",
      "1563/1563 [==============================] - 25s 16ms/step - loss: 1.1763 - accuracy: 0.5859 - val_loss: 1.1264 - val_accuracy: 0.6063\n",
      "Epoch 3/20\n",
      "1563/1563 [==============================] - 21s 13ms/step - loss: 1.0205 - accuracy: 0.6427 - val_loss: 1.0359 - val_accuracy: 0.6343\n",
      "Epoch 4/20\n",
      "1563/1563 [==============================] - 24s 15ms/step - loss: 0.9158 - accuracy: 0.6820 - val_loss: 0.9490 - val_accuracy: 0.6749\n",
      "Epoch 5/20\n",
      "1563/1563 [==============================] - 23s 15ms/step - loss: 0.8454 - accuracy: 0.7074 - val_loss: 0.9320 - val_accuracy: 0.6818\n",
      "Epoch 6/20\n",
      "1563/1563 [==============================] - 25s 16ms/step - loss: 0.7842 - accuracy: 0.7276 - val_loss: 0.8820 - val_accuracy: 0.6997\n",
      "Epoch 7/20\n",
      "1563/1563 [==============================] - 26s 16ms/step - loss: 0.7333 - accuracy: 0.7452 - val_loss: 0.8810 - val_accuracy: 0.6999\n",
      "Epoch 8/20\n",
      "1563/1563 [==============================] - 23s 15ms/step - loss: 0.6844 - accuracy: 0.7600 - val_loss: 0.9059 - val_accuracy: 0.6955\n",
      "Epoch 9/20\n",
      "1563/1563 [==============================] - 22s 14ms/step - loss: 0.6494 - accuracy: 0.7744 - val_loss: 0.8803 - val_accuracy: 0.7073\n",
      "Epoch 10/20\n",
      "1563/1563 [==============================] - 21s 14ms/step - loss: 0.6094 - accuracy: 0.7854 - val_loss: 0.8904 - val_accuracy: 0.7091\n",
      "Epoch 11/20\n",
      "1563/1563 [==============================] - 23s 15ms/step - loss: 0.5735 - accuracy: 0.7983 - val_loss: 0.9764 - val_accuracy: 0.6948\n",
      "Epoch 12/20\n",
      "1563/1563 [==============================] - 23s 15ms/step - loss: 0.5443 - accuracy: 0.8100 - val_loss: 0.9286 - val_accuracy: 0.7038\n",
      "Epoch 13/20\n",
      "1563/1563 [==============================] - 22s 14ms/step - loss: 0.5151 - accuracy: 0.8171 - val_loss: 0.9726 - val_accuracy: 0.7041\n",
      "Epoch 14/20\n",
      "1563/1563 [==============================] - 22s 14ms/step - loss: 0.4831 - accuracy: 0.8285 - val_loss: 0.9598 - val_accuracy: 0.7057\n",
      "Epoch 15/20\n",
      "1563/1563 [==============================] - 25s 16ms/step - loss: 0.4586 - accuracy: 0.8373 - val_loss: 0.9969 - val_accuracy: 0.7088\n",
      "Epoch 16/20\n",
      "1563/1563 [==============================] - 23s 15ms/step - loss: 0.4315 - accuracy: 0.8469 - val_loss: 1.0533 - val_accuracy: 0.7024\n",
      "Epoch 17/20\n",
      "1563/1563 [==============================] - 24s 15ms/step - loss: 0.4120 - accuracy: 0.8530 - val_loss: 1.0139 - val_accuracy: 0.7188\n",
      "Epoch 18/20\n",
      "1563/1563 [==============================] - 24s 15ms/step - loss: 0.3925 - accuracy: 0.8602 - val_loss: 1.0564 - val_accuracy: 0.7040\n",
      "Epoch 19/20\n",
      "1563/1563 [==============================] - 24s 15ms/step - loss: 0.3752 - accuracy: 0.8667 - val_loss: 1.0750 - val_accuracy: 0.7109\n",
      "Epoch 20/20\n",
      "1563/1563 [==============================] - 24s 15ms/step - loss: 0.3517 - accuracy: 0.8759 - val_loss: 1.1188 - val_accuracy: 0.7063\n"
     ]
    },
    {
     "data": {
      "text/plain": [
       "<keras.callbacks.History at 0x254c3aaa320>"
      ]
     },
     "execution_count": 19,
     "metadata": {},
     "output_type": "execute_result"
    }
   ],
   "source": [
    "# Train the model\n",
    "model.fit(x_train, y_train, batch_size=32, epochs=20, validation_data=(x_test, y_test))\n"
   ]
  },
  {
   "cell_type": "code",
   "execution_count": null,
   "metadata": {},
   "outputs": [],
   "source": []
  },
  {
   "cell_type": "code",
   "execution_count": null,
   "metadata": {},
   "outputs": [],
   "source": []
  }
 ],
 "metadata": {
  "kernelspec": {
   "display_name": ".venv",
   "language": "python",
   "name": "python3"
  },
  "language_info": {
   "codemirror_mode": {
    "name": "ipython",
    "version": 3
   },
   "file_extension": ".py",
   "mimetype": "text/x-python",
   "name": "python",
   "nbconvert_exporter": "python",
   "pygments_lexer": "ipython3",
   "version": "3.10.11"
  },
  "orig_nbformat": 4
 },
 "nbformat": 4,
 "nbformat_minor": 2
}
